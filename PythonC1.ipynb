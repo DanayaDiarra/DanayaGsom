{
 "cells": [
  {
   "cell_type": "code",
   "execution_count": 5,
   "id": "b041046f-f5ec-4305-9515-e6f64c4098b1",
   "metadata": {
    "tags": []
   },
   "outputs": [
    {
     "name": "stdin",
     "output_type": "stream",
     "text": [
      "Enter your name:  Markus\n"
     ]
    },
    {
     "name": "stdout",
     "output_type": "stream",
     "text": [
      "Hello Markus\n"
     ]
    }
   ],
   "source": [
    "# String variables  \n",
    "greeting = \"Hello\"  \n",
    "name = input(\"Enter your name: \")  \n",
    "full_greeting = greeting +\" \"+ name  \n",
    "print(full_greeting)  "
   ]
  },
  {
   "cell_type": "code",
   "execution_count": 7,
   "id": "17556d6c-d149-4942-a155-cebda63e8aa7",
   "metadata": {
    "tags": []
   },
   "outputs": [
    {
     "name": "stdout",
     "output_type": "stream",
     "text": [
      "Sum of a and b:  26\n"
     ]
    }
   ],
   "source": [
    "# Integer variables  \n",
    "a = 10  \n",
    "b = 16 \n",
    "sum_ab = a + b  \n",
    "print(\"Sum of a and b: \", sum_ab)"
   ]
  },
  {
   "cell_type": "code",
   "execution_count": 11,
   "id": "ba6facac-a7fc-41aa-9569-3491e334582d",
   "metadata": {
    "tags": []
   },
   "outputs": [
    {
     "name": "stdout",
     "output_type": "stream",
     "text": [
      "Product of x and y: 15.0\n"
     ]
    }
   ],
   "source": [
    "# Float variables  \n",
    "x = 7.5\n",
    "y = 2.0\n",
    "product_xy = x * y\n",
    "print(\"Product of x and y:\", product_xy)"
   ]
  },
  {
   "cell_type": "code",
   "execution_count": 12,
   "id": "6b83e763-7279-45ff-88dd-f69fa196f2ba",
   "metadata": {
    "tags": []
   },
   "outputs": [
    {
     "name": "stdout",
     "output_type": "stream",
     "text": [
      "Enjoy the sunshine!\n"
     ]
    }
   ],
   "source": [
    "# Boolean variables\n",
    "is_raining = False\n",
    "if is_raining:\n",
    "    print(\"Don't forget your umbrella!\")\n",
    "else:  \n",
    "    print(\"Enjoy the sunshine!\")"
   ]
  },
  {
   "cell_type": "code",
   "execution_count": 13,
   "id": "9f633945-ac24-48a9-a504-356eb6ff41db",
   "metadata": {
    "tags": []
   },
   "outputs": [
    {
     "name": "stdout",
     "output_type": "stream",
     "text": [
      "Original List: ['apple', 'banana', 'Mango']\n",
      "Updated List: ['apple', 'banana', 'Mango', 'orange']\n"
     ]
    }
   ],
   "source": [
    "# List variable\n",
    "fruits = [\"apple\", \"banana\", \"Mango\"]\n",
    "print(\"Original List:\", fruits)\n",
    "fruits.append(\"orange\")\n",
    "print(\"Updated List:\", fruits)"
   ]
  },
  {
   "cell_type": "code",
   "execution_count": 14,
   "id": "528e8fb4-1ae8-4882-adee-e0b8c433dc66",
   "metadata": {
    "tags": []
   },
   "outputs": [
    {
     "name": "stdout",
     "output_type": "stream",
     "text": [
      "Person Dictionary: {'name': 'Alice', 'age': 30}\n",
      "Updated Person Dictionary: {'name': 'Alice', 'age': 31}\n"
     ]
    }
   ],
   "source": [
    "# Dictionary variable  \n",
    "person = {\"name\": \"Alice\", \"age\": 30}  \n",
    "print(\"Person Dictionary:\", person)\n",
    "person[\"age\"] += 1  # Increment age\n",
    "print(\"Updated Person Dictionary:\", person)"
   ]
  },
  {
   "cell_type": "code",
   "execution_count": 16,
   "id": "16110208-49a0-4d99-aeac-38b90fcb074f",
   "metadata": {
    "tags": []
   },
   "outputs": [
    {
     "name": "stdout",
     "output_type": "stream",
     "text": [
      "Coordinates: (10, 20)\n"
     ]
    }
   ],
   "source": [
    "# Tuple variable\n",
    "coordinates = (10, 20)\n",
    "print(\"Coordinates:\", coordinates)"
   ]
  },
  {
   "cell_type": "code",
   "execution_count": 17,
   "id": "36ae0995-4234-47c5-9388-9aea1e5dae98",
   "metadata": {
    "tags": []
   },
   "outputs": [
    {
     "name": "stdout",
     "output_type": "stream",
     "text": [
      "Unique Numbers Set: {1, 2, 3}\n"
     ]
    }
   ],
   "source": [
    "# Set variable  \n",
    "unique_numbers = {1, 2, 3, 1, 2}\n",
    "print(\"Unique Numbers Set:\", unique_numbers)"
   ]
  },
  {
   "cell_type": "code",
   "execution_count": 18,
   "id": "b9fb6da9-06de-4142-8427-19551fba6ed2",
   "metadata": {
    "tags": []
   },
   "outputs": [
    {
     "name": "stdout",
     "output_type": "stream",
     "text": [
      "Converted String to Integer: 123\n"
     ]
    }
   ],
   "source": [
    "# Type conversions\n",
    "num_str = \"123\"\n",
    "num_int = int(num_str)\n",
    "print(\"Converted String to Integer:\", num_int)"
   ]
  },
  {
   "cell_type": "code",
   "execution_count": 19,
   "id": "11cb257f-dbf0-4fd8-9d51-54b0e9e948a9",
   "metadata": {
    "tags": []
   },
   "outputs": [
    {
     "name": "stdout",
     "output_type": "stream",
     "text": [
      "Mixed types result (int + float): 15.5\n"
     ]
    }
   ],
   "source": [
    "# Calculations using mixed types\n",
    "result = 10 + 5.5  # Implicit type conversion\n",
    "print(\"Mixed types result (int + float):\", result)"
   ]
  },
  {
   "cell_type": "code",
   "execution_count": null,
   "id": "3d41983c-1ab5-496e-8029-b2f78417c13b",
   "metadata": {},
   "outputs": [],
   "source": []
  }
 ],
 "metadata": {
  "kernelspec": {
   "display_name": "Python 3 (ipykernel)",
   "language": "python",
   "name": "python3"
  },
  "language_info": {
   "codemirror_mode": {
    "name": "ipython",
    "version": 3
   },
   "file_extension": ".py",
   "mimetype": "text/x-python",
   "name": "python",
   "nbconvert_exporter": "python",
   "pygments_lexer": "ipython3",
   "version": "3.10.8"
  }
 },
 "nbformat": 4,
 "nbformat_minor": 5
}
